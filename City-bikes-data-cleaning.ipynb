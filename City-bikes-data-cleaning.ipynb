{
 "cells": [
  {
   "cell_type": "code",
   "execution_count": 32,
   "id": "3ca3d40b",
   "metadata": {},
   "outputs": [],
   "source": [
    "import h3\n",
    "import pandas as pd\n",
    "import matplotlib.pyplot as plt\n",
    "import matplotlib.cm as cm\n",
    "import seaborn as sns\n",
    "import numpy as np\n",
    "import glob\n",
    "import os\n",
    "import datetime\n",
    "\n",
    "pd.set_option('display.max_rows', 1000)\n",
    "pd.set_option('display.max_columns', 100)\n",
    "\n",
    "#Set color palette in code\n",
    "colors = ['#8468F5','#EC74E7','#B2B2B2','#FFCB5C','#46B6E8','#2FD4A1']\n",
    "sns.set_palette(sns.color_palette(colors), n_colors = 6)"
   ]
  },
  {
   "cell_type": "markdown",
   "id": "d441d995",
   "metadata": {},
   "source": [
    "# Stations data"
   ]
  },
  {
   "cell_type": "code",
   "execution_count": 2,
   "id": "9e3d1e02",
   "metadata": {},
   "outputs": [
    {
     "data": {
      "text/html": [
       "<div>\n",
       "<style scoped>\n",
       "    .dataframe tbody tr th:only-of-type {\n",
       "        vertical-align: middle;\n",
       "    }\n",
       "\n",
       "    .dataframe tbody tr th {\n",
       "        vertical-align: top;\n",
       "    }\n",
       "\n",
       "    .dataframe thead th {\n",
       "        text-align: right;\n",
       "    }\n",
       "</style>\n",
       "<table border=\"1\" class=\"dataframe\">\n",
       "  <thead>\n",
       "    <tr style=\"text-align: right;\">\n",
       "      <th></th>\n",
       "      <th>FID</th>\n",
       "      <th>ID</th>\n",
       "      <th>Nimi</th>\n",
       "      <th>Namn</th>\n",
       "      <th>Name</th>\n",
       "      <th>Osoite</th>\n",
       "      <th>Adress</th>\n",
       "      <th>Kaupunki</th>\n",
       "      <th>Stad</th>\n",
       "      <th>Operaattor</th>\n",
       "      <th>Kapasiteet</th>\n",
       "      <th>x</th>\n",
       "      <th>y</th>\n",
       "    </tr>\n",
       "  </thead>\n",
       "  <tbody>\n",
       "    <tr>\n",
       "      <th>0</th>\n",
       "      <td>1</td>\n",
       "      <td>501</td>\n",
       "      <td>Hanasaari</td>\n",
       "      <td>Hanaholmen</td>\n",
       "      <td>Hanasaari</td>\n",
       "      <td>Hanasaarenranta 1</td>\n",
       "      <td>Hanaholmsstranden 1</td>\n",
       "      <td>Espoo</td>\n",
       "      <td>Esbo</td>\n",
       "      <td>CityBike Finland</td>\n",
       "      <td>10</td>\n",
       "      <td>24.840319</td>\n",
       "      <td>60.165820</td>\n",
       "    </tr>\n",
       "    <tr>\n",
       "      <th>1</th>\n",
       "      <td>2</td>\n",
       "      <td>503</td>\n",
       "      <td>Keilalahti</td>\n",
       "      <td>Kägelviken</td>\n",
       "      <td>Keilalahti</td>\n",
       "      <td>Keilalahdentie 2</td>\n",
       "      <td>Kägelviksvägen 2</td>\n",
       "      <td>Espoo</td>\n",
       "      <td>Esbo</td>\n",
       "      <td>CityBike Finland</td>\n",
       "      <td>28</td>\n",
       "      <td>24.827467</td>\n",
       "      <td>60.171524</td>\n",
       "    </tr>\n",
       "    <tr>\n",
       "      <th>2</th>\n",
       "      <td>3</td>\n",
       "      <td>505</td>\n",
       "      <td>Westendinasema</td>\n",
       "      <td>Westendstationen</td>\n",
       "      <td>Westendinasema</td>\n",
       "      <td>Westendintie 1</td>\n",
       "      <td>Westendvägen 1</td>\n",
       "      <td>Espoo</td>\n",
       "      <td>Esbo</td>\n",
       "      <td>CityBike Finland</td>\n",
       "      <td>16</td>\n",
       "      <td>24.805758</td>\n",
       "      <td>60.168266</td>\n",
       "    </tr>\n",
       "    <tr>\n",
       "      <th>3</th>\n",
       "      <td>4</td>\n",
       "      <td>507</td>\n",
       "      <td>Golfpolku</td>\n",
       "      <td>Golfstigen</td>\n",
       "      <td>Golfpolku</td>\n",
       "      <td>Golfpolku 3</td>\n",
       "      <td>Golfstigen 3</td>\n",
       "      <td>Espoo</td>\n",
       "      <td>Esbo</td>\n",
       "      <td>CityBike Finland</td>\n",
       "      <td>16</td>\n",
       "      <td>24.796136</td>\n",
       "      <td>60.168143</td>\n",
       "    </tr>\n",
       "    <tr>\n",
       "      <th>4</th>\n",
       "      <td>5</td>\n",
       "      <td>509</td>\n",
       "      <td>Revontulentie</td>\n",
       "      <td>Norrskensvägen</td>\n",
       "      <td>Revontulentie</td>\n",
       "      <td>Revontulentie 10</td>\n",
       "      <td>Norrskensvägen 10</td>\n",
       "      <td>Espoo</td>\n",
       "      <td>Esbo</td>\n",
       "      <td>CityBike Finland</td>\n",
       "      <td>30</td>\n",
       "      <td>24.802938</td>\n",
       "      <td>60.171551</td>\n",
       "    </tr>\n",
       "  </tbody>\n",
       "</table>\n",
       "</div>"
      ],
      "text/plain": [
       "   FID   ID            Nimi              Namn            Name  \\\n",
       "0    1  501       Hanasaari        Hanaholmen       Hanasaari   \n",
       "1    2  503      Keilalahti        Kägelviken      Keilalahti   \n",
       "2    3  505  Westendinasema  Westendstationen  Westendinasema   \n",
       "3    4  507       Golfpolku        Golfstigen       Golfpolku   \n",
       "4    5  509   Revontulentie    Norrskensvägen   Revontulentie   \n",
       "\n",
       "              Osoite               Adress Kaupunki  Stad        Operaattor  \\\n",
       "0  Hanasaarenranta 1  Hanaholmsstranden 1    Espoo  Esbo  CityBike Finland   \n",
       "1   Keilalahdentie 2     Kägelviksvägen 2    Espoo  Esbo  CityBike Finland   \n",
       "2     Westendintie 1       Westendvägen 1    Espoo  Esbo  CityBike Finland   \n",
       "3        Golfpolku 3         Golfstigen 3    Espoo  Esbo  CityBike Finland   \n",
       "4   Revontulentie 10    Norrskensvägen 10    Espoo  Esbo  CityBike Finland   \n",
       "\n",
       "   Kapasiteet          x          y  \n",
       "0          10  24.840319  60.165820  \n",
       "1          28  24.827467  60.171524  \n",
       "2          16  24.805758  60.168266  \n",
       "3          16  24.796136  60.168143  \n",
       "4          30  24.802938  60.171551  "
      ]
     },
     "execution_count": 2,
     "metadata": {},
     "output_type": "execute_result"
    }
   ],
   "source": [
    "file_path = './bike_data/city_bikes_stations.csv'\n",
    "df_stations = pd.read_csv(file_path)\n",
    "\n",
    "df_stations.head()"
   ]
  },
  {
   "cell_type": "code",
   "execution_count": 3,
   "id": "05675235",
   "metadata": {},
   "outputs": [
    {
     "data": {
      "text/html": [
       "<div>\n",
       "<style scoped>\n",
       "    .dataframe tbody tr th:only-of-type {\n",
       "        vertical-align: middle;\n",
       "    }\n",
       "\n",
       "    .dataframe tbody tr th {\n",
       "        vertical-align: top;\n",
       "    }\n",
       "\n",
       "    .dataframe thead th {\n",
       "        text-align: right;\n",
       "    }\n",
       "</style>\n",
       "<table border=\"1\" class=\"dataframe\">\n",
       "  <thead>\n",
       "    <tr style=\"text-align: right;\">\n",
       "      <th></th>\n",
       "      <th>ID</th>\n",
       "      <th>Name</th>\n",
       "      <th>Address</th>\n",
       "      <th>City</th>\n",
       "      <th>Capacity</th>\n",
       "      <th>lng</th>\n",
       "      <th>lat</th>\n",
       "    </tr>\n",
       "  </thead>\n",
       "  <tbody>\n",
       "    <tr>\n",
       "      <th>0</th>\n",
       "      <td>501</td>\n",
       "      <td>Hanasaari</td>\n",
       "      <td>Hanasaarenranta 1</td>\n",
       "      <td>Espoo</td>\n",
       "      <td>10</td>\n",
       "      <td>24.840319</td>\n",
       "      <td>60.165820</td>\n",
       "    </tr>\n",
       "    <tr>\n",
       "      <th>1</th>\n",
       "      <td>503</td>\n",
       "      <td>Keilalahti</td>\n",
       "      <td>Keilalahdentie 2</td>\n",
       "      <td>Espoo</td>\n",
       "      <td>28</td>\n",
       "      <td>24.827467</td>\n",
       "      <td>60.171524</td>\n",
       "    </tr>\n",
       "    <tr>\n",
       "      <th>2</th>\n",
       "      <td>505</td>\n",
       "      <td>Westendinasema</td>\n",
       "      <td>Westendintie 1</td>\n",
       "      <td>Espoo</td>\n",
       "      <td>16</td>\n",
       "      <td>24.805758</td>\n",
       "      <td>60.168266</td>\n",
       "    </tr>\n",
       "    <tr>\n",
       "      <th>3</th>\n",
       "      <td>507</td>\n",
       "      <td>Golfpolku</td>\n",
       "      <td>Golfpolku 3</td>\n",
       "      <td>Espoo</td>\n",
       "      <td>16</td>\n",
       "      <td>24.796136</td>\n",
       "      <td>60.168143</td>\n",
       "    </tr>\n",
       "    <tr>\n",
       "      <th>4</th>\n",
       "      <td>509</td>\n",
       "      <td>Revontulentie</td>\n",
       "      <td>Revontulentie 10</td>\n",
       "      <td>Espoo</td>\n",
       "      <td>30</td>\n",
       "      <td>24.802938</td>\n",
       "      <td>60.171551</td>\n",
       "    </tr>\n",
       "  </tbody>\n",
       "</table>\n",
       "</div>"
      ],
      "text/plain": [
       "    ID            Name            Address   City  Capacity        lng  \\\n",
       "0  501       Hanasaari  Hanasaarenranta 1  Espoo        10  24.840319   \n",
       "1  503      Keilalahti   Keilalahdentie 2  Espoo        28  24.827467   \n",
       "2  505  Westendinasema     Westendintie 1  Espoo        16  24.805758   \n",
       "3  507       Golfpolku        Golfpolku 3  Espoo        16  24.796136   \n",
       "4  509   Revontulentie   Revontulentie 10  Espoo        30  24.802938   \n",
       "\n",
       "         lat  \n",
       "0  60.165820  \n",
       "1  60.171524  \n",
       "2  60.168266  \n",
       "3  60.168143  \n",
       "4  60.171551  "
      ]
     },
     "execution_count": 3,
     "metadata": {},
     "output_type": "execute_result"
    }
   ],
   "source": [
    "# Rename \"x\" and \"y\" as longitude and latitude\n",
    "df_stations = df_stations.rename(columns={\"x\": \"lng\", \"y\": \"lat\"})\n",
    "\n",
    "# Let's drop unnecessary columns:\n",
    "df_stations = df_stations.drop(columns=['Name', 'Namn', 'Adress', 'Stad', 'Operaattor', 'FID'])\n",
    "\n",
    "# Translate the column names to English:\n",
    "df_stations = df_stations.rename(columns={\"Osoite\": \"Address\", \"Kaupunki\": \"City\", \"Kapasiteet\": \"Capacity\",\n",
    "                                          \"Nimi\": \"Name\"})\n",
    "\n",
    "# In 'City' column, blanks refer to Helsinki so let's fill in that name:\n",
    "df_stations.loc[df_stations.City == ' ', 'City'] = 'Helsinki'\n",
    "\n",
    "df_stations.head()"
   ]
  },
  {
   "cell_type": "code",
   "execution_count": 4,
   "id": "9a27c449",
   "metadata": {},
   "outputs": [
    {
     "data": {
      "text/html": [
       "<div>\n",
       "<style scoped>\n",
       "    .dataframe tbody tr th:only-of-type {\n",
       "        vertical-align: middle;\n",
       "    }\n",
       "\n",
       "    .dataframe tbody tr th {\n",
       "        vertical-align: top;\n",
       "    }\n",
       "\n",
       "    .dataframe thead th {\n",
       "        text-align: right;\n",
       "    }\n",
       "</style>\n",
       "<table border=\"1\" class=\"dataframe\">\n",
       "  <thead>\n",
       "    <tr style=\"text-align: right;\">\n",
       "      <th></th>\n",
       "      <th>ID</th>\n",
       "      <th>Name</th>\n",
       "      <th>Address</th>\n",
       "      <th>City</th>\n",
       "      <th>Capacity</th>\n",
       "      <th>lng</th>\n",
       "      <th>lat</th>\n",
       "      <th>h3_res6</th>\n",
       "      <th>h3_res7</th>\n",
       "      <th>h3_res8</th>\n",
       "      <th>h3_res9</th>\n",
       "    </tr>\n",
       "  </thead>\n",
       "  <tbody>\n",
       "    <tr>\n",
       "      <th>0</th>\n",
       "      <td>501</td>\n",
       "      <td>Hanasaari</td>\n",
       "      <td>Hanasaarenranta 1</td>\n",
       "      <td>Espoo</td>\n",
       "      <td>10</td>\n",
       "      <td>24.840319</td>\n",
       "      <td>60.165820</td>\n",
       "      <td>86089969fffffff</td>\n",
       "      <td>87089969affffff</td>\n",
       "      <td>88089969a3fffff</td>\n",
       "      <td>89089969a33ffff</td>\n",
       "    </tr>\n",
       "    <tr>\n",
       "      <th>1</th>\n",
       "      <td>503</td>\n",
       "      <td>Keilalahti</td>\n",
       "      <td>Keilalahdentie 2</td>\n",
       "      <td>Espoo</td>\n",
       "      <td>28</td>\n",
       "      <td>24.827467</td>\n",
       "      <td>60.171524</td>\n",
       "      <td>86089969fffffff</td>\n",
       "      <td>870899698ffffff</td>\n",
       "      <td>8808996985fffff</td>\n",
       "      <td>8908996984fffff</td>\n",
       "    </tr>\n",
       "    <tr>\n",
       "      <th>2</th>\n",
       "      <td>505</td>\n",
       "      <td>Westendinasema</td>\n",
       "      <td>Westendintie 1</td>\n",
       "      <td>Espoo</td>\n",
       "      <td>16</td>\n",
       "      <td>24.805758</td>\n",
       "      <td>60.168266</td>\n",
       "      <td>86089969fffffff</td>\n",
       "      <td>87089969effffff</td>\n",
       "      <td>880899698dfffff</td>\n",
       "      <td>890899698dbffff</td>\n",
       "    </tr>\n",
       "    <tr>\n",
       "      <th>3</th>\n",
       "      <td>507</td>\n",
       "      <td>Golfpolku</td>\n",
       "      <td>Golfpolku 3</td>\n",
       "      <td>Espoo</td>\n",
       "      <td>16</td>\n",
       "      <td>24.796136</td>\n",
       "      <td>60.168143</td>\n",
       "      <td>86089969fffffff</td>\n",
       "      <td>87089969effffff</td>\n",
       "      <td>88089969ebfffff</td>\n",
       "      <td>89089969eb7ffff</td>\n",
       "    </tr>\n",
       "    <tr>\n",
       "      <th>4</th>\n",
       "      <td>509</td>\n",
       "      <td>Revontulentie</td>\n",
       "      <td>Revontulentie 10</td>\n",
       "      <td>Espoo</td>\n",
       "      <td>30</td>\n",
       "      <td>24.802938</td>\n",
       "      <td>60.171551</td>\n",
       "      <td>86089969fffffff</td>\n",
       "      <td>870899698ffffff</td>\n",
       "      <td>880899698dfffff</td>\n",
       "      <td>890899698d3ffff</td>\n",
       "    </tr>\n",
       "  </tbody>\n",
       "</table>\n",
       "</div>"
      ],
      "text/plain": [
       "    ID            Name            Address   City  Capacity        lng  \\\n",
       "0  501       Hanasaari  Hanasaarenranta 1  Espoo        10  24.840319   \n",
       "1  503      Keilalahti   Keilalahdentie 2  Espoo        28  24.827467   \n",
       "2  505  Westendinasema     Westendintie 1  Espoo        16  24.805758   \n",
       "3  507       Golfpolku        Golfpolku 3  Espoo        16  24.796136   \n",
       "4  509   Revontulentie   Revontulentie 10  Espoo        30  24.802938   \n",
       "\n",
       "         lat          h3_res6          h3_res7          h3_res8  \\\n",
       "0  60.165820  86089969fffffff  87089969affffff  88089969a3fffff   \n",
       "1  60.171524  86089969fffffff  870899698ffffff  8808996985fffff   \n",
       "2  60.168266  86089969fffffff  87089969effffff  880899698dfffff   \n",
       "3  60.168143  86089969fffffff  87089969effffff  88089969ebfffff   \n",
       "4  60.171551  86089969fffffff  870899698ffffff  880899698dfffff   \n",
       "\n",
       "           h3_res9  \n",
       "0  89089969a33ffff  \n",
       "1  8908996984fffff  \n",
       "2  890899698dbffff  \n",
       "3  89089969eb7ffff  \n",
       "4  890899698d3ffff  "
      ]
     },
     "execution_count": 4,
     "metadata": {},
     "output_type": "execute_result"
    }
   ],
   "source": [
    "# Add hexagon ids of resolution 6 to 9 to the stations.\n",
    "min_res = 6\n",
    "max_res = 9\n",
    "for ind in df_stations.index.tolist():\n",
    "    lat = df_stations.loc[ind].lat\n",
    "    lng = df_stations.loc[ind].lng\n",
    "    for res in range(min_res, max_res+1):\n",
    "        h3_id = h3.geo_to_h3(lat, lng, res)\n",
    "        col = \"h3_res\"+str(res)\n",
    "        df_stations.loc[ind, col] = h3_id\n",
    "\n",
    "df_stations.head()"
   ]
  },
  {
   "cell_type": "markdown",
   "id": "42f04daf",
   "metadata": {},
   "source": [
    "# Trips data"
   ]
  },
  {
   "cell_type": "code",
   "execution_count": 5,
   "id": "698ea549",
   "metadata": {},
   "outputs": [
    {
     "name": "stdout",
     "output_type": "stream",
     "text": [
      "2016-05.csv 2017-06.csv 2018-06.csv 2019-06.csv 2020-05.csv 2021-05.csv\r\n",
      "2016-06.csv 2017-07.csv 2018-07.csv 2019-07.csv 2020-06.csv 2021-06.csv\r\n",
      "2016-07.csv 2017-08.csv 2018-08.csv 2019-08.csv 2020-07.csv 2021-07.csv\r\n",
      "2016-08.csv 2017-09.csv 2018-09.csv 2019-09.csv 2020-08.csv 2021-08.csv\r\n",
      "2016-09.csv 2017-10.csv 2018-10.csv 2019-10.csv 2020-09.csv 2021-09.csv\r\n",
      "2016-10.csv 2018-04.csv 2019-04.csv 2020-03.csv 2020-10.csv 2021-10.csv\r\n",
      "2017-05.csv 2018-05.csv 2019-05.csv 2020-04.csv 2021-04.csv\r\n"
     ]
    }
   ],
   "source": [
    "# There are city bike data from 2016 until 2021. Note that bikes are not available during winter (November-March).\n",
    "!ls ./bike_data/trips"
   ]
  },
  {
   "cell_type": "code",
   "execution_count": 6,
   "id": "e43fb5e3",
   "metadata": {},
   "outputs": [
    {
     "name": "stderr",
     "output_type": "stream",
     "text": [
      "/opt/anaconda3/lib/python3.8/site-packages/pandas/core/reshape/concat.py:348: DtypeWarning: Columns (4) have mixed types.Specify dtype option on import or set low_memory=False.\n",
      "  objs = list(objs)\n"
     ]
    },
    {
     "data": {
      "text/html": [
       "<div>\n",
       "<style scoped>\n",
       "    .dataframe tbody tr th:only-of-type {\n",
       "        vertical-align: middle;\n",
       "    }\n",
       "\n",
       "    .dataframe tbody tr th {\n",
       "        vertical-align: top;\n",
       "    }\n",
       "\n",
       "    .dataframe thead th {\n",
       "        text-align: right;\n",
       "    }\n",
       "</style>\n",
       "<table border=\"1\" class=\"dataframe\">\n",
       "  <thead>\n",
       "    <tr style=\"text-align: right;\">\n",
       "      <th></th>\n",
       "      <th>Departure</th>\n",
       "      <th>Return</th>\n",
       "      <th>Departure station id</th>\n",
       "      <th>Departure station name</th>\n",
       "      <th>Return station id</th>\n",
       "      <th>Return station name</th>\n",
       "      <th>Covered distance (m)</th>\n",
       "      <th>Duration (sec.)</th>\n",
       "    </tr>\n",
       "  </thead>\n",
       "  <tbody>\n",
       "    <tr>\n",
       "      <th>0</th>\n",
       "      <td>2018-06-30T23:59:56</td>\n",
       "      <td>2018-07-01T00:12:00</td>\n",
       "      <td>44.0</td>\n",
       "      <td>Sörnäisten metroasema</td>\n",
       "      <td>70.0</td>\n",
       "      <td>Sammonpuistikko</td>\n",
       "      <td>3199.0</td>\n",
       "      <td>756.0</td>\n",
       "    </tr>\n",
       "    <tr>\n",
       "      <th>1</th>\n",
       "      <td>2018-06-30T23:59:33</td>\n",
       "      <td>2018-07-01T00:06:00</td>\n",
       "      <td>22.0</td>\n",
       "      <td>Rautatientori / länsi</td>\n",
       "      <td>22.0</td>\n",
       "      <td>Rautatientori / länsi</td>\n",
       "      <td>104.0</td>\n",
       "      <td>391.0</td>\n",
       "    </tr>\n",
       "    <tr>\n",
       "      <th>2</th>\n",
       "      <td>2018-06-30T23:59:27</td>\n",
       "      <td>2018-07-01T00:06:00</td>\n",
       "      <td>27.0</td>\n",
       "      <td>Eerikinkatu</td>\n",
       "      <td>63.0</td>\n",
       "      <td>Jätkäsaarenlaituri</td>\n",
       "      <td>1247.0</td>\n",
       "      <td>422.0</td>\n",
       "    </tr>\n",
       "    <tr>\n",
       "      <th>3</th>\n",
       "      <td>2018-06-30T23:59:23</td>\n",
       "      <td>2018-07-01T00:03:00</td>\n",
       "      <td>127.0</td>\n",
       "      <td>Teurastamo</td>\n",
       "      <td>125.0</td>\n",
       "      <td>Arielinkatu</td>\n",
       "      <td>791.0</td>\n",
       "      <td>227.0</td>\n",
       "    </tr>\n",
       "    <tr>\n",
       "      <th>4</th>\n",
       "      <td>2018-06-30T23:59:23</td>\n",
       "      <td>2018-07-01T00:07:00</td>\n",
       "      <td>27.0</td>\n",
       "      <td>Eerikinkatu</td>\n",
       "      <td>63.0</td>\n",
       "      <td>Jätkäsaarenlaituri</td>\n",
       "      <td>1251.0</td>\n",
       "      <td>485.0</td>\n",
       "    </tr>\n",
       "  </tbody>\n",
       "</table>\n",
       "</div>"
      ],
      "text/plain": [
       "             Departure               Return Departure station id  \\\n",
       "0  2018-06-30T23:59:56  2018-07-01T00:12:00                 44.0   \n",
       "1  2018-06-30T23:59:33  2018-07-01T00:06:00                 22.0   \n",
       "2  2018-06-30T23:59:27  2018-07-01T00:06:00                 27.0   \n",
       "3  2018-06-30T23:59:23  2018-07-01T00:03:00                127.0   \n",
       "4  2018-06-30T23:59:23  2018-07-01T00:07:00                 27.0   \n",
       "\n",
       "  Departure station name Return station id    Return station name  \\\n",
       "0  Sörnäisten metroasema              70.0        Sammonpuistikko   \n",
       "1  Rautatientori / länsi              22.0  Rautatientori / länsi   \n",
       "2            Eerikinkatu              63.0     Jätkäsaarenlaituri   \n",
       "3             Teurastamo             125.0            Arielinkatu   \n",
       "4            Eerikinkatu              63.0     Jätkäsaarenlaituri   \n",
       "\n",
       "   Covered distance (m)  Duration (sec.)  \n",
       "0                3199.0            756.0  \n",
       "1                 104.0            391.0  \n",
       "2                1247.0            422.0  \n",
       "3                 791.0            227.0  \n",
       "4                1251.0            485.0  "
      ]
     },
     "execution_count": 6,
     "metadata": {},
     "output_type": "execute_result"
    }
   ],
   "source": [
    "directory_path = './bike_data/trips'\n",
    "all_files = glob.glob(os.path.join(directory_path , \"*.csv\"))\n",
    "\n",
    "df_trips = pd.concat((pd.read_csv(f) for f in all_files), ignore_index=True)\n",
    "\n",
    "trips_number_of_rows= len(df_trips)\n",
    "df_trips.head()"
   ]
  },
  {
   "cell_type": "code",
   "execution_count": 7,
   "id": "46d49c0a",
   "metadata": {},
   "outputs": [
    {
     "data": {
      "text/plain": [
       "15022833"
      ]
     },
     "execution_count": 7,
     "metadata": {},
     "output_type": "execute_result"
    }
   ],
   "source": [
    "len(df_trips)"
   ]
  },
  {
   "cell_type": "code",
   "execution_count": 8,
   "id": "d73c5537",
   "metadata": {},
   "outputs": [
    {
     "name": "stdout",
     "output_type": "stream",
     "text": [
      "Number of NaN values in the dataframe:\n",
      "----------------\n",
      "Departure 0\n",
      "Return 0\n",
      "Departure station id 665\n",
      "Departure station name 665\n",
      "Return station id 360\n",
      "Return station name 360\n",
      "Covered distance (m) 2531\n",
      "Duration (sec.) 209264\n"
     ]
    }
   ],
   "source": [
    "print(\"Number of NaN values in the dataframe:\")\n",
    "print(\"----------------\")\n",
    "for col in df_trips.columns.tolist():\n",
    "    print(col, df_trips[col].isnull().sum())"
   ]
  },
  {
   "cell_type": "markdown",
   "id": "1b7a9fca",
   "metadata": {},
   "source": [
    "### Clean the data and extract info from the date"
   ]
  },
  {
   "cell_type": "code",
   "execution_count": 9,
   "id": "930e4098",
   "metadata": {},
   "outputs": [
    {
     "name": "stdout",
     "output_type": "stream",
     "text": [
      "Numbers of rows removed:  1025\n"
     ]
    }
   ],
   "source": [
    "len_before = len(df_trips)\n",
    "\n",
    "# Drop rows where we have NaN values\n",
    "df_trips = df_trips.dropna(subset=['Return station id', 'Departure station id', 'Departure', 'Return'])\n",
    "\n",
    "# After filtering NaN, we can also change the timestamps into datetime\n",
    "df_trips['Departure'] = pd.to_datetime(df_trips['Departure'])\n",
    "df_trips['Return'] = pd.to_datetime(df_trips['Return'])\n",
    "\n",
    "# Parse info from the timestamps: departure and return year, month, day, hour, ..\n",
    "df_trips['departure_day_name'] = df_trips['Departure'].dt.day_name()\n",
    "df_trips['departure_weekday'] = df_trips['Departure'].dt.dayofweek\n",
    "df_trips['departure_hour'] = df_trips['Departure'].dt.hour\n",
    "df_trips['departure_day'] = df_trips['Departure'].dt.day\n",
    "df_trips['departure_month'] = df_trips['Departure'].dt.month\n",
    "df_trips['departure_date'] = df_trips['Departure'].dt.date\n",
    "df_trips['departure_year'] = df_trips['Departure'].dt.year\n",
    "\n",
    "df_trips['return_day_name'] = df_trips['Return'].dt.day_name()\n",
    "df_trips['return_weekday'] = df_trips['Return'].dt.dayofweek\n",
    "df_trips['return_hour'] = df_trips['Return'].dt.hour\n",
    "df_trips['return_day'] = df_trips['Return'].dt.day\n",
    "df_trips['return_month'] = df_trips['Return'].dt.month\n",
    "df_trips['return_date'] = df_trips['Return'].dt.date\n",
    "df_trips['return_year'] = df_trips['Return'].dt.year\n",
    "\n",
    "print(\"Numbers of rows removed: \", len_before - len(df_trips))"
   ]
  },
  {
   "cell_type": "markdown",
   "id": "b4a64b00",
   "metadata": {},
   "source": [
    "### Checking when the covered distance is 0 meters or duration of the trips is 0 second."
   ]
  },
  {
   "cell_type": "code",
   "execution_count": 10,
   "id": "8062c608",
   "metadata": {},
   "outputs": [
    {
     "name": "stdout",
     "output_type": "stream",
     "text": [
      "Number of trips where covered distance is 0 meters: 465581\n"
     ]
    }
   ],
   "source": [
    "print(\"Number of trips where covered distance is 0 meters:\", len(df_trips[df_trips['Covered distance (m)'] == 0]))"
   ]
  },
  {
   "cell_type": "code",
   "execution_count": 11,
   "id": "23cc3c2d",
   "metadata": {},
   "outputs": [
    {
     "data": {
      "text/plain": [
       "[Text(0, 0.5, 'Number of cases'),\n",
       " Text(0.5, 0, 'Date'),\n",
       " Text(0.5, 1.0, 'Number of cases where the covered distance is 0 meters.')]"
      ]
     },
     "execution_count": 11,
     "metadata": {},
     "output_type": "execute_result"
    },
    {
     "data": {
      "image/png": "[encoded data removed]",
      "text/plain": [
       "<Figure size 1080x360 with 1 Axes>"
      ]
     },
     "metadata": {
      "needs_background": "light"
     },
     "output_type": "display_data"
    }
   ],
   "source": [
    "# Calculate the number of trips per day when the covered distance is 0m:\n",
    "use_data = df_trips[df_trips['Covered distance (m)'] == 0].groupby(['departure_date'])\\\n",
    "                                                          .Departure.count().reset_index()\n",
    "\n",
    "# In the above count we only take into accout days when there is at least one trip where covered distance is 0m.\n",
    "# However, there are probably days when there isn't any of such trips. We need to expand the table with all the\n",
    "# dates in the trips data and set the count to 0 when there's not any trips that has moved 0m.\n",
    "timerange =  pd.date_range(df_trips['departure_date'].min(),\n",
    "                           df_trips['departure_date'].max()+pd.Timedelta(days=1),\n",
    "                           freq='1d')\n",
    "all_slots = pd.DataFrame({'time':timerange})\n",
    "all_slots['departure_date'] = all_slots['time'].dt.date\n",
    "use_data = pd.merge(all_slots, use_data, how=\"left\", on=['departure_date'])\n",
    "use_data.Departure = use_data.Departure.fillna(0)\n",
    "\n",
    "\n",
    "fig, ax = plt.subplots(figsize = (15,5))\n",
    "ax = sns.lineplot(data=use_data, x='departure_date', y='Departure')\n",
    "ax.grid(alpha=0.3)\n",
    "ax.set(ylabel='Number of cases', xlabel='Date', title = 'Number of cases where the covered distance is 0 meters.')"
   ]
  },
  {
   "cell_type": "markdown",
   "id": "6e720aab",
   "metadata": {},
   "source": [
    "It seems that the cases with covered distance is 0m is quite equally spread accross the time (except small peak in 2018 but that doesn't seem to last long) so we can remove rows where covered distance is  0."
   ]
  },
  {
   "cell_type": "code",
   "execution_count": 12,
   "id": "f3d0b443",
   "metadata": {},
   "outputs": [
    {
     "name": "stdout",
     "output_type": "stream",
     "text": [
      "Numbers of rows removed:  468148\n"
     ]
    }
   ],
   "source": [
    "len_before = len(df_trips)\n",
    "\n",
    "# There's a lot of trips that it seems like the bike has not moved at all. Perhaps these are cases where\n",
    "# the unlocking failed or the user decided not to use the bike afterall.\n",
    "\n",
    "# Let's only take into account those trips where covered distance is larger than 0.\n",
    "df_trips = df_trips[df_trips['Covered distance (m)'] > 0]\n",
    "\n",
    "print(\"Numbers of rows removed: \", len_before - len(df_trips))"
   ]
  },
  {
   "cell_type": "markdown",
   "id": "9c92228e",
   "metadata": {},
   "source": [
    "Let's next check the trips where the duration is null."
   ]
  },
  {
   "cell_type": "code",
   "execution_count": 13,
   "id": "82e159f8",
   "metadata": {},
   "outputs": [
    {
     "name": "stdout",
     "output_type": "stream",
     "text": [
      "Number of trips that has 'null' in duration: 203934\n"
     ]
    }
   ],
   "source": [
    "print(\"Number of trips that has 'null' in duration:\", len(df_trips[df_trips['Duration (sec.)'].isnull()]))"
   ]
  },
  {
   "cell_type": "code",
   "execution_count": 14,
   "id": "76c52dcb",
   "metadata": {},
   "outputs": [
    {
     "data": {
      "text/plain": [
       "[Text(0, 0.5, 'Number of cases'),\n",
       " Text(0.5, 0, 'Date'),\n",
       " Text(0.5, 1.0, 'Number of cases where the duration is null.')]"
      ]
     },
     "execution_count": 14,
     "metadata": {},
     "output_type": "execute_result"
    },
    {
     "data": {
      "image/png": "[encoded data removed]",
      "text/plain": [
       "<Figure size 1080x360 with 1 Axes>"
      ]
     },
     "metadata": {
      "needs_background": "light"
     },
     "output_type": "display_data"
    }
   ],
   "source": [
    "use_data = df_trips[df_trips['Duration (sec.)'].isnull()].groupby(['departure_date']).Departure.count().reset_index()\n",
    "\n",
    "timerange =  pd.date_range(df_trips['departure_date'].min(),\n",
    "                           df_trips['departure_date'].max()+pd.Timedelta(days=1), freq='1d')\n",
    "all_slots = pd.DataFrame({'time':timerange})\n",
    "all_slots['departure_date'] = all_slots['time'].dt.date\n",
    "use_data = pd.merge(all_slots, use_data, how=\"left\", on=['departure_date'])\n",
    "use_data.Departure = use_data.Departure.fillna(0)\n",
    "\n",
    "\n",
    "fig, ax = plt.subplots(figsize = (15,5))\n",
    "ax = sns.lineplot(data=use_data, x='departure_date', y='Departure')\n",
    "ax.grid(alpha=0.3)\n",
    "ax.set(ylabel='Number of cases', xlabel='Date', title = 'Number of cases where the duration is null.')"
   ]
  },
  {
   "cell_type": "markdown",
   "id": "97552dfa",
   "metadata": {},
   "source": [
    "Deeper look into the data reveals that on October 2021 the duration is always null. There's probably some issues with the database on that month. If we remove these rows, we will remove all data from 10/2021. So let's keep these in the data."
   ]
  },
  {
   "cell_type": "code",
   "execution_count": 15,
   "id": "9325eb98",
   "metadata": {},
   "outputs": [
    {
     "data": {
      "text/plain": [
       "departure_year  departure_month\n",
       "2018            5                       3\n",
       "                8                       1\n",
       "                9                       1\n",
       "2021            10                 203929\n",
       "Name: Departure, dtype: int64"
      ]
     },
     "execution_count": 15,
     "metadata": {},
     "output_type": "execute_result"
    }
   ],
   "source": [
    "# Let's look at the value count of null values throughout the data:\n",
    "df_trips[df_trips['Duration (sec.)'].isnull()].groupby(['departure_year', 'departure_month']).Departure.count()"
   ]
  },
  {
   "cell_type": "code",
   "execution_count": 16,
   "id": "d9f31bce",
   "metadata": {},
   "outputs": [
    {
     "name": "stdout",
     "output_type": "stream",
     "text": [
      "Number of trips in October 2021: 203929\n"
     ]
    }
   ],
   "source": [
    "print(\"Number of trips in October 2021:\",\n",
    "      len(df_trips[(df_trips.departure_year == 2021)&(df_trips.departure_month == 10)]))"
   ]
  },
  {
   "cell_type": "markdown",
   "id": "33a945b1",
   "metadata": {},
   "source": [
    "# Merging stations data with trip data"
   ]
  },
  {
   "cell_type": "markdown",
   "id": "b4c2cf4b",
   "metadata": {},
   "source": [
    "### First, we notice that the station ids from 2016 are different than in later years so we need to modify them."
   ]
  },
  {
   "cell_type": "code",
   "execution_count": 17,
   "id": "7711433d",
   "metadata": {},
   "outputs": [
    {
     "data": {
      "text/plain": [
       "array(['A27', 'A01', 'A40', 'B08', 'A25', 'A49', 'A24', 'B04', 'A07',\n",
       "       'A38', 'A23', 'B07', 'A19', 'A42', 'A05', 'B05', 'A21', 'A03',\n",
       "       'A18', 'A17', 'C01', 'A06', 'A30', 'A41', 'C02', 'B01', 'A29',\n",
       "       'A10', 'A33', 'A31', 'A14', 'A35', 'A15', 'A22', 'A09', 'A32',\n",
       "       'A28', 'B02', 'B03', 'A11', 'A12', 'A02', 'A26', 'A16', 'A34',\n",
       "       'A13', '997', 'A20', 'A04', 'A39'], dtype=object)"
      ]
     },
     "execution_count": 17,
     "metadata": {},
     "output_type": "execute_result"
    }
   ],
   "source": [
    "# Checking the stations ids from 2016 we see that they are strings, not integers like they should.\n",
    "# So the station indexation has been changed after 2016.\n",
    "df_trips[(df_trips.departure_year == 2016)]['Departure station id'].unique()"
   ]
  },
  {
   "cell_type": "code",
   "execution_count": 18,
   "id": "ee7c3494",
   "metadata": {},
   "outputs": [
    {
     "data": {
      "text/plain": [
       "array([305, 361, 69, 24, 87, 237, 238, 129, 126, 145, 118, 394, 51, 6, 22,\n",
       "       78, 761, 150, 625, 280, 127, 40, 403, 397, 313, 225, 306, 161, 103,\n",
       "       113, 21, 226, 213, 31, 727, 281, 284, 29, 7, 115, 581, 70, 122,\n",
       "       360, 272, 105, 241, 36, 9, 731, 203, 260, 344, 39, 34, 206, 63, 27,\n",
       "       293, 32, 204, 8, 511, 517, 86, 393, 120, 751, 110, 16, 13, 262, 44,\n",
       "       48, 95, 218, 121, 705, 53, 125, 259, 515, 112, 45, 346, 94, 111,\n",
       "       162, 232, 589, 106, 17, 109, 100, 132, 214, 639, 41, 519, 10, 30,\n",
       "       84, 322, 573, 647, 147, 404, 509, 553, 270, 571, 314, 38, 54, 333,\n",
       "       140, 231, 138, 285, 283, 649, 352, 90, 131, 19, 529, 137, 1, 25,\n",
       "       101, 627, 35, 119, 12, 73, 80, 555, 228, 72, 274, 11, 149, 117, 82,\n",
       "       124, 148, 76, 401, 275, 247, 85, 543, 215, 49, 5, 733, 89, 263,\n",
       "       635, 715, 202, 611, 719, 577, 65, 142, 55, 209, 57, 709, 99, 59,\n",
       "       900, 368, 358, 14, 18, 42, 135, 77, 144, 230, 136, 23, 37, 370,\n",
       "       116, 20, 330, 319, 279, 523, 15, 217, 372, 371, 538, 26, 711, 559,\n",
       "       631, 133, 399, 267, 28, 308, 46, 134, 81, 325, 373, 60, 43, 541,\n",
       "       749, 332, 239, 68, 763, 364, 585, 50, 353, 107, 212, 336, 539, 307,\n",
       "       234, 547, 365, 74, 236, 222, 302, 62, 114, 355, 123, 52, 33, 707,\n",
       "       269, 75, 701, 579, 398, 643, 362, 320, 229, 130, 359, 327, 139, 61,\n",
       "       207, 532, 227, 201, 380, 311, 390, 713, 737, 240, 141, 388, 378,\n",
       "       375, 251, 747, 597, 513, 389, 266, 318, 294, 290, 88, 4, 221, 291,\n",
       "       641, 143, 402, 901, 2, 71, 723, 769, 265, 66, 93, 369, 146, 521,\n",
       "       339, 67, 220, 518, 505, 387, 64, 246, 276, 128, 108, 396, 366, 525,\n",
       "       745, 163, 653, 741, 587, 292, 91, 278, 395, 501, 286, 354, 205,\n",
       "       507, 254, 527, 310, 219, 328, 264, 261, 208, 256, 384, 503, 98,\n",
       "       591, 348, 104, 629, 301, 593, 92, 58, 645, 575, 754, 609, 376, 282,\n",
       "       248, 400, 258, 3, 391, 757, 633, 755, 96, 545, 385, 245, 271, 224,\n",
       "       377, 324, 329, 79, 725, 255, 341, 613, 244, 317, 739, 211, 623, 47,\n",
       "       533, 243, 386, 621, 252, 753, 557, 200, 583, 56, 216, 565, 561,\n",
       "       233, 268, 596, 537, 767, 210, 379, 367, 315, 223, 603, 312, 253,\n",
       "       721, 735, 235, 531, 619, 242, 902, 277, 563, 363, 382, 257, 338,\n",
       "       637, 549, 316, 83, 335, 551, 392, 356, 303, 349, 309, 357, 617,\n",
       "       337, 321, 615, 595, 381, 383, 250, 340, 351, 249, 334, 374, 651,\n",
       "       326, 703, 607, 997, 331, 323, 350, 601, 304, 343, 405, 342, 347,\n",
       "       999, 345], dtype=object)"
      ]
     },
     "execution_count": 18,
     "metadata": {},
     "output_type": "execute_result"
    }
   ],
   "source": [
    "df_trips[(df_trips.departure_year == 2021)]['Departure station id'].unique()"
   ]
  },
  {
   "cell_type": "code",
   "execution_count": 19,
   "id": "16df90ea",
   "metadata": {},
   "outputs": [],
   "source": [
    "# In order to keep 2016 data in the data set, let's set a negative value to all stations that are from 2016.\n",
    "df_trips.loc[(df_trips.departure_year == 2016), 'Departure station id'] = -1\n",
    "df_trips.loc[(df_trips.departure_year == 2016), 'Return station id'] = -1"
   ]
  },
  {
   "cell_type": "markdown",
   "id": "6e333920",
   "metadata": {},
   "source": [
    "### Now we can combine the trip data with the stations data. Note that we only do this with data 2017 onwards."
   ]
  },
  {
   "cell_type": "code",
   "execution_count": 20,
   "id": "f7bcb20d",
   "metadata": {},
   "outputs": [
    {
     "data": {
      "text/html": [
       "<div>\n",
       "<style scoped>\n",
       "    .dataframe tbody tr th:only-of-type {\n",
       "        vertical-align: middle;\n",
       "    }\n",
       "\n",
       "    .dataframe tbody tr th {\n",
       "        vertical-align: top;\n",
       "    }\n",
       "\n",
       "    .dataframe thead th {\n",
       "        text-align: right;\n",
       "    }\n",
       "</style>\n",
       "<table border=\"1\" class=\"dataframe\">\n",
       "  <thead>\n",
       "    <tr style=\"text-align: right;\">\n",
       "      <th></th>\n",
       "      <th>Departure</th>\n",
       "      <th>Return</th>\n",
       "      <th>Departure station id</th>\n",
       "      <th>Departure station name</th>\n",
       "      <th>Return station id</th>\n",
       "      <th>Return station name</th>\n",
       "      <th>Covered distance (m)</th>\n",
       "      <th>Duration (sec.)</th>\n",
       "      <th>departure_day_name</th>\n",
       "      <th>departure_weekday</th>\n",
       "      <th>departure_hour</th>\n",
       "      <th>departure_day</th>\n",
       "      <th>departure_month</th>\n",
       "      <th>departure_date</th>\n",
       "      <th>departure_year</th>\n",
       "      <th>return_day_name</th>\n",
       "      <th>return_weekday</th>\n",
       "      <th>return_hour</th>\n",
       "      <th>return_day</th>\n",
       "      <th>return_month</th>\n",
       "      <th>return_date</th>\n",
       "      <th>return_year</th>\n",
       "      <th>departure_ID</th>\n",
       "      <th>departure_lng</th>\n",
       "      <th>departure_lat</th>\n",
       "      <th>departure_h3_res6</th>\n",
       "      <th>departure_h3_res7</th>\n",
       "      <th>departure_h3_res8</th>\n",
       "      <th>departure_h3_res9</th>\n",
       "      <th>return_ID</th>\n",
       "      <th>return_lng</th>\n",
       "      <th>return_lat</th>\n",
       "      <th>return_h3_res6</th>\n",
       "      <th>return_h3_res7</th>\n",
       "      <th>return_h3_res8</th>\n",
       "      <th>return_h3_res9</th>\n",
       "    </tr>\n",
       "  </thead>\n",
       "  <tbody>\n",
       "    <tr>\n",
       "      <th>0</th>\n",
       "      <td>2018-06-30 23:59:56</td>\n",
       "      <td>2018-07-01 00:12:00</td>\n",
       "      <td>44</td>\n",
       "      <td>Sörnäisten metroasema</td>\n",
       "      <td>70</td>\n",
       "      <td>Sammonpuistikko</td>\n",
       "      <td>3199.0</td>\n",
       "      <td>756.0</td>\n",
       "      <td>Saturday</td>\n",
       "      <td>5</td>\n",
       "      <td>23</td>\n",
       "      <td>30</td>\n",
       "      <td>6</td>\n",
       "      <td>2018-06-30</td>\n",
       "      <td>2018</td>\n",
       "      <td>Sunday</td>\n",
       "      <td>6</td>\n",
       "      <td>0</td>\n",
       "      <td>1</td>\n",
       "      <td>7</td>\n",
       "      <td>2018-07-01</td>\n",
       "      <td>2018</td>\n",
       "      <td>44.0</td>\n",
       "      <td>24.960554</td>\n",
       "      <td>60.187713</td>\n",
       "      <td>861126d07ffffff</td>\n",
       "      <td>871126d06ffffff</td>\n",
       "      <td>881126d061fffff</td>\n",
       "      <td>891126d0603ffff</td>\n",
       "      <td>70.0</td>\n",
       "      <td>24.922411</td>\n",
       "      <td>60.173147</td>\n",
       "      <td>861126d37ffffff</td>\n",
       "      <td>871126d30ffffff</td>\n",
       "      <td>881126d303fffff</td>\n",
       "      <td>891126d3027ffff</td>\n",
       "    </tr>\n",
       "    <tr>\n",
       "      <th>1</th>\n",
       "      <td>2018-06-30 23:59:33</td>\n",
       "      <td>2018-07-01 00:06:00</td>\n",
       "      <td>22</td>\n",
       "      <td>Rautatientori / länsi</td>\n",
       "      <td>22</td>\n",
       "      <td>Rautatientori / länsi</td>\n",
       "      <td>104.0</td>\n",
       "      <td>391.0</td>\n",
       "      <td>Saturday</td>\n",
       "      <td>5</td>\n",
       "      <td>23</td>\n",
       "      <td>30</td>\n",
       "      <td>6</td>\n",
       "      <td>2018-06-30</td>\n",
       "      <td>2018</td>\n",
       "      <td>Sunday</td>\n",
       "      <td>6</td>\n",
       "      <td>0</td>\n",
       "      <td>1</td>\n",
       "      <td>7</td>\n",
       "      <td>2018-07-01</td>\n",
       "      <td>2018</td>\n",
       "      <td>22.0</td>\n",
       "      <td>24.939760</td>\n",
       "      <td>60.170606</td>\n",
       "      <td>861126d37ffffff</td>\n",
       "      <td>871126d33ffffff</td>\n",
       "      <td>881126d331fffff</td>\n",
       "      <td>891126d338fffff</td>\n",
       "      <td>22.0</td>\n",
       "      <td>24.939760</td>\n",
       "      <td>60.170606</td>\n",
       "      <td>861126d37ffffff</td>\n",
       "      <td>871126d33ffffff</td>\n",
       "      <td>881126d331fffff</td>\n",
       "      <td>891126d338fffff</td>\n",
       "    </tr>\n",
       "    <tr>\n",
       "      <th>2</th>\n",
       "      <td>2018-06-30 23:59:27</td>\n",
       "      <td>2018-07-01 00:06:00</td>\n",
       "      <td>27</td>\n",
       "      <td>Eerikinkatu</td>\n",
       "      <td>63</td>\n",
       "      <td>Jätkäsaarenlaituri</td>\n",
       "      <td>1247.0</td>\n",
       "      <td>422.0</td>\n",
       "      <td>Saturday</td>\n",
       "      <td>5</td>\n",
       "      <td>23</td>\n",
       "      <td>30</td>\n",
       "      <td>6</td>\n",
       "      <td>2018-06-30</td>\n",
       "      <td>2018</td>\n",
       "      <td>Sunday</td>\n",
       "      <td>6</td>\n",
       "      <td>0</td>\n",
       "      <td>1</td>\n",
       "      <td>7</td>\n",
       "      <td>2018-07-01</td>\n",
       "      <td>2018</td>\n",
       "      <td>27.0</td>\n",
       "      <td>24.936642</td>\n",
       "      <td>60.167706</td>\n",
       "      <td>861126d37ffffff</td>\n",
       "      <td>871126d33ffffff</td>\n",
       "      <td>881126d339fffff</td>\n",
       "      <td>891126d338bffff</td>\n",
       "      <td>63.0</td>\n",
       "      <td>24.921490</td>\n",
       "      <td>60.161931</td>\n",
       "      <td>861126d37ffffff</td>\n",
       "      <td>871126d30ffffff</td>\n",
       "      <td>881126d307fffff</td>\n",
       "      <td>891126d307bffff</td>\n",
       "    </tr>\n",
       "    <tr>\n",
       "      <th>3</th>\n",
       "      <td>2018-06-30 23:59:23</td>\n",
       "      <td>2018-07-01 00:03:00</td>\n",
       "      <td>127</td>\n",
       "      <td>Teurastamo</td>\n",
       "      <td>125</td>\n",
       "      <td>Arielinkatu</td>\n",
       "      <td>791.0</td>\n",
       "      <td>227.0</td>\n",
       "      <td>Saturday</td>\n",
       "      <td>5</td>\n",
       "      <td>23</td>\n",
       "      <td>30</td>\n",
       "      <td>6</td>\n",
       "      <td>2018-06-30</td>\n",
       "      <td>2018</td>\n",
       "      <td>Sunday</td>\n",
       "      <td>6</td>\n",
       "      <td>0</td>\n",
       "      <td>1</td>\n",
       "      <td>7</td>\n",
       "      <td>2018-07-01</td>\n",
       "      <td>2018</td>\n",
       "      <td>127.0</td>\n",
       "      <td>24.971157</td>\n",
       "      <td>60.189695</td>\n",
       "      <td>861126d07ffffff</td>\n",
       "      <td>871126d06ffffff</td>\n",
       "      <td>881126d063fffff</td>\n",
       "      <td>891126d063bffff</td>\n",
       "      <td>125.0</td>\n",
       "      <td>24.979739</td>\n",
       "      <td>60.185922</td>\n",
       "      <td>861126d07ffffff</td>\n",
       "      <td>871126d02ffffff</td>\n",
       "      <td>881126d067fffff</td>\n",
       "      <td>891126d066fffff</td>\n",
       "    </tr>\n",
       "    <tr>\n",
       "      <th>4</th>\n",
       "      <td>2018-06-30 23:59:23</td>\n",
       "      <td>2018-07-01 00:07:00</td>\n",
       "      <td>27</td>\n",
       "      <td>Eerikinkatu</td>\n",
       "      <td>63</td>\n",
       "      <td>Jätkäsaarenlaituri</td>\n",
       "      <td>1251.0</td>\n",
       "      <td>485.0</td>\n",
       "      <td>Saturday</td>\n",
       "      <td>5</td>\n",
       "      <td>23</td>\n",
       "      <td>30</td>\n",
       "      <td>6</td>\n",
       "      <td>2018-06-30</td>\n",
       "      <td>2018</td>\n",
       "      <td>Sunday</td>\n",
       "      <td>6</td>\n",
       "      <td>0</td>\n",
       "      <td>1</td>\n",
       "      <td>7</td>\n",
       "      <td>2018-07-01</td>\n",
       "      <td>2018</td>\n",
       "      <td>27.0</td>\n",
       "      <td>24.936642</td>\n",
       "      <td>60.167706</td>\n",
       "      <td>861126d37ffffff</td>\n",
       "      <td>871126d33ffffff</td>\n",
       "      <td>881126d339fffff</td>\n",
       "      <td>891126d338bffff</td>\n",
       "      <td>63.0</td>\n",
       "      <td>24.921490</td>\n",
       "      <td>60.161931</td>\n",
       "      <td>861126d37ffffff</td>\n",
       "      <td>871126d30ffffff</td>\n",
       "      <td>881126d307fffff</td>\n",
       "      <td>891126d307bffff</td>\n",
       "    </tr>\n",
       "  </tbody>\n",
       "</table>\n",
       "</div>"
      ],
      "text/plain": [
       "            Departure              Return  Departure station id  \\\n",
       "0 2018-06-30 23:59:56 2018-07-01 00:12:00                    44   \n",
       "1 2018-06-30 23:59:33 2018-07-01 00:06:00                    22   \n",
       "2 2018-06-30 23:59:27 2018-07-01 00:06:00                    27   \n",
       "3 2018-06-30 23:59:23 2018-07-01 00:03:00                   127   \n",
       "4 2018-06-30 23:59:23 2018-07-01 00:07:00                    27   \n",
       "\n",
       "  Departure station name  Return station id    Return station name  \\\n",
       "0  Sörnäisten metroasema                 70        Sammonpuistikko   \n",
       "1  Rautatientori / länsi                 22  Rautatientori / länsi   \n",
       "2            Eerikinkatu                 63     Jätkäsaarenlaituri   \n",
       "3             Teurastamo                125            Arielinkatu   \n",
       "4            Eerikinkatu                 63     Jätkäsaarenlaituri   \n",
       "\n",
       "   Covered distance (m)  Duration (sec.) departure_day_name  \\\n",
       "0                3199.0            756.0           Saturday   \n",
       "1                 104.0            391.0           Saturday   \n",
       "2                1247.0            422.0           Saturday   \n",
       "3                 791.0            227.0           Saturday   \n",
       "4                1251.0            485.0           Saturday   \n",
       "\n",
       "   departure_weekday  departure_hour  departure_day  departure_month  \\\n",
       "0                  5              23             30                6   \n",
       "1                  5              23             30                6   \n",
       "2                  5              23             30                6   \n",
       "3                  5              23             30                6   \n",
       "4                  5              23             30                6   \n",
       "\n",
       "  departure_date  departure_year return_day_name  return_weekday  return_hour  \\\n",
       "0     2018-06-30            2018          Sunday               6            0   \n",
       "1     2018-06-30            2018          Sunday               6            0   \n",
       "2     2018-06-30            2018          Sunday               6            0   \n",
       "3     2018-06-30            2018          Sunday               6            0   \n",
       "4     2018-06-30            2018          Sunday               6            0   \n",
       "\n",
       "   return_day  return_month return_date  return_year  departure_ID  \\\n",
       "0           1             7  2018-07-01         2018          44.0   \n",
       "1           1             7  2018-07-01         2018          22.0   \n",
       "2           1             7  2018-07-01         2018          27.0   \n",
       "3           1             7  2018-07-01         2018         127.0   \n",
       "4           1             7  2018-07-01         2018          27.0   \n",
       "\n",
       "   departure_lng  departure_lat departure_h3_res6 departure_h3_res7  \\\n",
       "0      24.960554      60.187713   861126d07ffffff   871126d06ffffff   \n",
       "1      24.939760      60.170606   861126d37ffffff   871126d33ffffff   \n",
       "2      24.936642      60.167706   861126d37ffffff   871126d33ffffff   \n",
       "3      24.971157      60.189695   861126d07ffffff   871126d06ffffff   \n",
       "4      24.936642      60.167706   861126d37ffffff   871126d33ffffff   \n",
       "\n",
       "  departure_h3_res8 departure_h3_res9  return_ID  return_lng  return_lat  \\\n",
       "0   881126d061fffff   891126d0603ffff       70.0   24.922411   60.173147   \n",
       "1   881126d331fffff   891126d338fffff       22.0   24.939760   60.170606   \n",
       "2   881126d339fffff   891126d338bffff       63.0   24.921490   60.161931   \n",
       "3   881126d063fffff   891126d063bffff      125.0   24.979739   60.185922   \n",
       "4   881126d339fffff   891126d338bffff       63.0   24.921490   60.161931   \n",
       "\n",
       "    return_h3_res6   return_h3_res7   return_h3_res8   return_h3_res9  \n",
       "0  861126d37ffffff  871126d30ffffff  881126d303fffff  891126d3027ffff  \n",
       "1  861126d37ffffff  871126d33ffffff  881126d331fffff  891126d338fffff  \n",
       "2  861126d37ffffff  871126d30ffffff  881126d307fffff  891126d307bffff  \n",
       "3  861126d07ffffff  871126d02ffffff  881126d067fffff  891126d066fffff  \n",
       "4  861126d37ffffff  871126d30ffffff  881126d307fffff  891126d307bffff  "
      ]
     },
     "execution_count": 20,
     "metadata": {},
     "output_type": "execute_result"
    }
   ],
   "source": [
    "# Station ids must be integers. Let's drop all values that cannot be transformed into integer. Note that we\n",
    "# set the station ids from 2016 to -1 as the id system has changed and the old station ids are not integers\n",
    "# but we want to keep the data from 2016 still.\n",
    "df_trips['Return station id'] = pd.to_numeric(df_trips['Return station id'], errors='coerce')\n",
    "df_trips = df_trips[df_trips['Return station id'].notna()]\n",
    "df_trips['Return station id'] = df_trips['Return station id'].astype(int)\n",
    "\n",
    "df_trips['Departure station id'] = pd.to_numeric(df_trips['Departure station id'], errors='coerce')\n",
    "df_trips = df_trips[df_trips['Departure station id'].notna()]\n",
    "df_trips['Departure station id'] = df_trips['Departure station id'].astype(int)\n",
    "\n",
    "departure_stations = df_stations[['ID', 'lng', 'lat', 'h3_res6', 'h3_res7', 'h3_res8', 'h3_res9']]\n",
    "departure_stations.columns = \"departure_\"+departure_stations.columns\n",
    "\n",
    "return_stations = df_stations[['ID', 'lng', 'lat', 'h3_res6', 'h3_res7', 'h3_res8', 'h3_res9']]\n",
    "return_stations.columns = \"return_\"+return_stations.columns\n",
    "\n",
    "\n",
    "df_trips = pd.merge(df_trips, departure_stations, how=\"left\", left_on='Departure station id',\n",
    "                    right_on='departure_ID')\n",
    "df_trips = pd.merge(df_trips, return_stations, how=\"left\", left_on = 'Return station id',\n",
    "                    right_on='return_ID')\n",
    "df_trips.head()"
   ]
  },
  {
   "cell_type": "code",
   "execution_count": 21,
   "id": "3fe03418",
   "metadata": {},
   "outputs": [
    {
     "data": {
      "text/plain": [
       "2019    3687713\n",
       "2018    3063202\n",
       "2020    3053405\n",
       "2021    2782075\n",
       "2017    1567208\n",
       "2016     400056\n",
       "Name: departure_year, dtype: int64"
      ]
     },
     "execution_count": 21,
     "metadata": {},
     "output_type": "execute_result"
    }
   ],
   "source": [
    "# Check that we have data from all the years\n",
    "df_trips.departure_year.value_counts()"
   ]
  },
  {
   "cell_type": "markdown",
   "id": "0aa97779",
   "metadata": {},
   "source": [
    "### Let's also add info to the stations data that in which year the station was first and last used."
   ]
  },
  {
   "cell_type": "code",
   "execution_count": 22,
   "id": "fa7d70cc",
   "metadata": {},
   "outputs": [
    {
     "data": {
      "text/html": [
       "<div>\n",
       "<style scoped>\n",
       "    .dataframe tbody tr th:only-of-type {\n",
       "        vertical-align: middle;\n",
       "    }\n",
       "\n",
       "    .dataframe tbody tr th {\n",
       "        vertical-align: top;\n",
       "    }\n",
       "\n",
       "    .dataframe thead th {\n",
       "        text-align: right;\n",
       "    }\n",
       "</style>\n",
       "<table border=\"1\" class=\"dataframe\">\n",
       "  <thead>\n",
       "    <tr style=\"text-align: right;\">\n",
       "      <th></th>\n",
       "      <th>ID</th>\n",
       "      <th>Name</th>\n",
       "      <th>Address</th>\n",
       "      <th>City</th>\n",
       "      <th>Capacity</th>\n",
       "      <th>lng</th>\n",
       "      <th>lat</th>\n",
       "      <th>h3_res6</th>\n",
       "      <th>h3_res7</th>\n",
       "      <th>h3_res8</th>\n",
       "      <th>h3_res9</th>\n",
       "      <th>Year</th>\n",
       "      <th>Year_last_used</th>\n",
       "    </tr>\n",
       "  </thead>\n",
       "  <tbody>\n",
       "    <tr>\n",
       "      <th>0</th>\n",
       "      <td>501</td>\n",
       "      <td>Hanasaari</td>\n",
       "      <td>Hanasaarenranta 1</td>\n",
       "      <td>Espoo</td>\n",
       "      <td>10</td>\n",
       "      <td>24.840319</td>\n",
       "      <td>60.165820</td>\n",
       "      <td>86089969fffffff</td>\n",
       "      <td>87089969affffff</td>\n",
       "      <td>88089969a3fffff</td>\n",
       "      <td>89089969a33ffff</td>\n",
       "      <td>2018</td>\n",
       "      <td>2021</td>\n",
       "    </tr>\n",
       "    <tr>\n",
       "      <th>1</th>\n",
       "      <td>503</td>\n",
       "      <td>Keilalahti</td>\n",
       "      <td>Keilalahdentie 2</td>\n",
       "      <td>Espoo</td>\n",
       "      <td>28</td>\n",
       "      <td>24.827467</td>\n",
       "      <td>60.171524</td>\n",
       "      <td>86089969fffffff</td>\n",
       "      <td>870899698ffffff</td>\n",
       "      <td>8808996985fffff</td>\n",
       "      <td>8908996984fffff</td>\n",
       "      <td>2018</td>\n",
       "      <td>2021</td>\n",
       "    </tr>\n",
       "    <tr>\n",
       "      <th>2</th>\n",
       "      <td>505</td>\n",
       "      <td>Westendinasema</td>\n",
       "      <td>Westendintie 1</td>\n",
       "      <td>Espoo</td>\n",
       "      <td>16</td>\n",
       "      <td>24.805758</td>\n",
       "      <td>60.168266</td>\n",
       "      <td>86089969fffffff</td>\n",
       "      <td>87089969effffff</td>\n",
       "      <td>880899698dfffff</td>\n",
       "      <td>890899698dbffff</td>\n",
       "      <td>2018</td>\n",
       "      <td>2021</td>\n",
       "    </tr>\n",
       "    <tr>\n",
       "      <th>3</th>\n",
       "      <td>507</td>\n",
       "      <td>Golfpolku</td>\n",
       "      <td>Golfpolku 3</td>\n",
       "      <td>Espoo</td>\n",
       "      <td>16</td>\n",
       "      <td>24.796136</td>\n",
       "      <td>60.168143</td>\n",
       "      <td>86089969fffffff</td>\n",
       "      <td>87089969effffff</td>\n",
       "      <td>88089969ebfffff</td>\n",
       "      <td>89089969eb7ffff</td>\n",
       "      <td>2018</td>\n",
       "      <td>2021</td>\n",
       "    </tr>\n",
       "    <tr>\n",
       "      <th>4</th>\n",
       "      <td>509</td>\n",
       "      <td>Revontulentie</td>\n",
       "      <td>Revontulentie 10</td>\n",
       "      <td>Espoo</td>\n",
       "      <td>30</td>\n",
       "      <td>24.802938</td>\n",
       "      <td>60.171551</td>\n",
       "      <td>86089969fffffff</td>\n",
       "      <td>870899698ffffff</td>\n",
       "      <td>880899698dfffff</td>\n",
       "      <td>890899698d3ffff</td>\n",
       "      <td>2018</td>\n",
       "      <td>2021</td>\n",
       "    </tr>\n",
       "  </tbody>\n",
       "</table>\n",
       "</div>"
      ],
      "text/plain": [
       "    ID            Name            Address   City  Capacity        lng  \\\n",
       "0  501       Hanasaari  Hanasaarenranta 1  Espoo        10  24.840319   \n",
       "1  503      Keilalahti   Keilalahdentie 2  Espoo        28  24.827467   \n",
       "2  505  Westendinasema     Westendintie 1  Espoo        16  24.805758   \n",
       "3  507       Golfpolku        Golfpolku 3  Espoo        16  24.796136   \n",
       "4  509   Revontulentie   Revontulentie 10  Espoo        30  24.802938   \n",
       "\n",
       "         lat          h3_res6          h3_res7          h3_res8  \\\n",
       "0  60.165820  86089969fffffff  87089969affffff  88089969a3fffff   \n",
       "1  60.171524  86089969fffffff  870899698ffffff  8808996985fffff   \n",
       "2  60.168266  86089969fffffff  87089969effffff  880899698dfffff   \n",
       "3  60.168143  86089969fffffff  87089969effffff  88089969ebfffff   \n",
       "4  60.171551  86089969fffffff  870899698ffffff  880899698dfffff   \n",
       "\n",
       "           h3_res9  Year  Year_last_used  \n",
       "0  89089969a33ffff  2018            2021  \n",
       "1  8908996984fffff  2018            2021  \n",
       "2  890899698dbffff  2018            2021  \n",
       "3  89089969eb7ffff  2018            2021  \n",
       "4  890899698d3ffff  2018            2021  "
      ]
     },
     "execution_count": 22,
     "metadata": {},
     "output_type": "execute_result"
    }
   ],
   "source": [
    "# Add year to df_stations on when the station was first time used\n",
    "stations_info = df_trips.groupby([pd.to_datetime(df_trips['Departure']).dt.year, 'Departure station id'])\\\n",
    "                        .Return.count()\\\n",
    "                        .reset_index()\\\n",
    "                        .rename(columns= {'Departure':'Year', 'Departure station id':'ID'})\\\n",
    "                        .drop(columns=['Return']).sort_values(by=['Year'], ascending=True)\\\n",
    "                        .drop_duplicates(subset=['ID'], keep='first')\n",
    "df_stations = df_stations.merge(stations_info, how='left', on='ID')\n",
    "\n",
    "# The station id is different in 2016 than in the later years so we cannot use the station id from 2016 to combine\n",
    "# trips and stations. Instead we must use the station names (not fully accurate, some names are changed).\n",
    "stations = df_trips[pd.to_datetime(df_trips['Departure']).dt.year == 2016]['Departure station name'].unique()\\\n",
    "                                                                                                    .tolist()\n",
    "df_stations.loc[df_stations.Name.isin(stations), 'Year'] = 2016\n",
    "\n",
    "# Add the last year when the station was still used\n",
    "stations_info = df_trips.groupby([pd.to_datetime(df_trips['Departure']).dt.year, 'Departure station id']).Return\\\n",
    "                        .count().reset_index()\\\n",
    "                        .rename(columns= {'Departure':'Year_last_used', 'Departure station id':'ID'})\\\n",
    "                        .drop(columns=['Return']).sort_values(by=['Year_last_used'], ascending=False)\\\n",
    "                        .drop_duplicates(subset=['ID'], keep='first')\n",
    "df_stations = df_stations.merge(stations_info, how='left', on='ID')\n",
    "\n",
    "df_stations.head()"
   ]
  },
  {
   "cell_type": "code",
   "execution_count": 23,
   "id": "cd628ab0",
   "metadata": {},
   "outputs": [
    {
     "data": {
      "text/plain": [
       "2018    117\n",
       "2021    106\n",
       "2017     97\n",
       "2019     94\n",
       "2016     41\n",
       "2020      2\n",
       "Name: Year, dtype: int64"
      ]
     },
     "execution_count": 23,
     "metadata": {},
     "output_type": "execute_result"
    }
   ],
   "source": [
    "# Amount of stations added each year:\n",
    "df_stations.Year.value_counts()"
   ]
  },
  {
   "cell_type": "code",
   "execution_count": 24,
   "id": "197f063e",
   "metadata": {},
   "outputs": [
    {
     "data": {
      "text/plain": [
       "2021    456\n",
       "2020      1\n",
       "Name: Year_last_used, dtype: int64"
      ]
     },
     "execution_count": 24,
     "metadata": {},
     "output_type": "execute_result"
    }
   ],
   "source": [
    "# The year that the stations was last used:\n",
    "df_stations.Year_last_used.value_counts()"
   ]
  },
  {
   "cell_type": "code",
   "execution_count": 25,
   "id": "d452e30a",
   "metadata": {},
   "outputs": [
    {
     "data": {
      "text/html": [
       "<div>\n",
       "<style scoped>\n",
       "    .dataframe tbody tr th:only-of-type {\n",
       "        vertical-align: middle;\n",
       "    }\n",
       "\n",
       "    .dataframe tbody tr th {\n",
       "        vertical-align: top;\n",
       "    }\n",
       "\n",
       "    .dataframe thead th {\n",
       "        text-align: right;\n",
       "    }\n",
       "</style>\n",
       "<table border=\"1\" class=\"dataframe\">\n",
       "  <thead>\n",
       "    <tr style=\"text-align: right;\">\n",
       "      <th></th>\n",
       "      <th>ID</th>\n",
       "      <th>Name</th>\n",
       "      <th>Address</th>\n",
       "      <th>City</th>\n",
       "      <th>Capacity</th>\n",
       "      <th>lng</th>\n",
       "      <th>lat</th>\n",
       "      <th>h3_res6</th>\n",
       "      <th>h3_res7</th>\n",
       "      <th>h3_res8</th>\n",
       "      <th>h3_res9</th>\n",
       "      <th>Year</th>\n",
       "      <th>Year_last_used</th>\n",
       "    </tr>\n",
       "  </thead>\n",
       "  <tbody>\n",
       "    <tr>\n",
       "      <th>89</th>\n",
       "      <td>729</td>\n",
       "      <td>Leppävaaranaukio</td>\n",
       "      <td>Hevosenkenkä 3</td>\n",
       "      <td>Espoo</td>\n",
       "      <td>30</td>\n",
       "      <td>24.813885</td>\n",
       "      <td>60.218869</td>\n",
       "      <td>86089968fffffff</td>\n",
       "      <td>87089968affffff</td>\n",
       "      <td>88089968abfffff</td>\n",
       "      <td>89089968aabffff</td>\n",
       "      <td>2018</td>\n",
       "      <td>2020</td>\n",
       "    </tr>\n",
       "  </tbody>\n",
       "</table>\n",
       "</div>"
      ],
      "text/plain": [
       "     ID              Name         Address   City  Capacity        lng  \\\n",
       "89  729  Leppävaaranaukio  Hevosenkenkä 3  Espoo        30  24.813885   \n",
       "\n",
       "          lat          h3_res6          h3_res7          h3_res8  \\\n",
       "89  60.218869  86089968fffffff  87089968affffff  88089968abfffff   \n",
       "\n",
       "            h3_res9  Year  Year_last_used  \n",
       "89  89089968aabffff  2018            2020  "
      ]
     },
     "execution_count": 25,
     "metadata": {},
     "output_type": "execute_result"
    }
   ],
   "source": [
    "# The data shows only one station has been removed (latest usage in 2021):\n",
    "df_stations[df_stations.Year_last_used < 2021]"
   ]
  },
  {
   "cell_type": "markdown",
   "id": "78085ba2",
   "metadata": {},
   "source": [
    "This might mean that actually stations data show only stations that were recently available, not all stations that has been available."
   ]
  },
  {
   "cell_type": "markdown",
   "id": "4672d7bc",
   "metadata": {},
   "source": [
    "## Check how much data per each day we removed.\n",
    "\n",
    "There are clearly more issues in the older data (especially from 2016) than from the more recent data."
   ]
  },
  {
   "cell_type": "code",
   "execution_count": 26,
   "id": "b2c14265",
   "metadata": {},
   "outputs": [
    {
     "data": {
      "text/plain": [
       "[Text(0, 0.5, 'Number of cases'),\n",
       " Text(0.5, 0, 'Date'),\n",
       " Text(0.5, 1.0, \"Number of trips where the return or departure statons couldn't be combined with the stations data.\")]"
      ]
     },
     "execution_count": 26,
     "metadata": {},
     "output_type": "execute_result"
    },
    {
     "data": {
      "image/png": "[encoded data removed]",
      "text/plain": [
       "<Figure size 1080x360 with 1 Axes>"
      ]
     },
     "metadata": {
      "needs_background": "light"
     },
     "output_type": "display_data"
    }
   ],
   "source": [
    "use_data = df_trips[df_trips.departure_year >= 2017]\n",
    "use_data = use_data[(use_data.departure_h3_res8.isnull()) | (use_data.return_h3_res8.isnull())]\n",
    "use_data = use_data.groupby(['departure_date']).Departure.count().reset_index()\n",
    "\n",
    "timerange =  pd.date_range(df_trips['departure_date'].min(),\n",
    "                           df_trips['departure_date'].max()+pd.Timedelta(days=1), freq='1d')\n",
    "all_slots = pd.DataFrame({'time':timerange})\n",
    "\n",
    "all_slots['departure_date'] = all_slots['time'].dt.date\n",
    "use_data = pd.merge(all_slots, use_data, how=\"left\", on=['departure_date'])\n",
    "use_data.Departure = use_data.Departure.fillna(0)\n",
    "\n",
    "use_data = use_data.groupby(['departure_date']).mean().reset_index()\n",
    "\n",
    "\n",
    "fig, ax = plt.subplots(figsize = (15,5))\n",
    "ax = sns.lineplot(data=use_data, x='departure_date', y='Departure')\n",
    "ax.grid(alpha=0.3)\n",
    "ax.set(ylabel='Number of cases', xlabel='Date',\n",
    "       title = \"Number of trips where the return or departure statons couldn't be combined with the stations data.\")"
   ]
  },
  {
   "cell_type": "markdown",
   "id": "6e48d8a0",
   "metadata": {},
   "source": [
    "## Check the station names from trips data that we couldn't find from the stations data "
   ]
  },
  {
   "cell_type": "code",
   "execution_count": 27,
   "id": "a0a92c82",
   "metadata": {},
   "outputs": [
    {
     "data": {
      "text/plain": [
       "array(['Workshop Helsinki', 'Kalastajantie', 'Adjutantinkatu',\n",
       "       'Leiritori', 'Kauppakartanonkuja', 'Workshop Konala',\n",
       "       ' Relay Box test station', 'Suomenlahdentie', 'Piispansilta',\n",
       "       'Lintumetsä', 'Olarinkatu', 'Friisinkalliontie', 'Professorintie',\n",
       "       'Matinkartanontie', 'Kuunkatu', 'Ruomelantie', 'Niemenmäenkuja',\n",
       "       'Nokkala', 'Sepetlahdentie', 'Workshop Smoove', 'Ruomelantie***',\n",
       "       'Bike Production', '9 Station Test'], dtype=object)"
      ]
     },
     "execution_count": 27,
     "metadata": {},
     "output_type": "execute_result"
    }
   ],
   "source": [
    "# Let's check the stations names that were not found from the stations data table (do they don't have hexagon ids.)\n",
    "df_trips[(df_trips.departure_year >= 2017)&(df_trips.departure_h3_res8.isnull())]['Departure station name'].unique()"
   ]
  },
  {
   "cell_type": "markdown",
   "id": "af6d2cce",
   "metadata": {},
   "source": [
    "Seems that some of the stations are workshops and test stations but it seems that some of the names sound like actual bike stations. The reason why they cannot be found from the stations data table is unknown but perhaps they have slightly changed their name or station id."
   ]
  },
  {
   "cell_type": "code",
   "execution_count": 28,
   "id": "993f441b",
   "metadata": {},
   "outputs": [
    {
     "data": {
      "text/plain": [
       "array([635, 153])"
      ]
     },
     "execution_count": 28,
     "metadata": {},
     "output_type": "execute_result"
    }
   ],
   "source": [
    "# I found one station that have actually changed the ids but has kept the same name. However I cannot be sure if\n",
    "# there's been some changes to the station so it's safer to remove it.\n",
    "df_trips[df_trips['Departure station name'] == 'Kuunkatu']['Departure station id'].unique()"
   ]
  },
  {
   "cell_type": "code",
   "execution_count": 29,
   "id": "dc9c59e5",
   "metadata": {},
   "outputs": [
    {
     "name": "stdout",
     "output_type": "stream",
     "text": [
      "Numbers of rows removed:  34203\n"
     ]
    }
   ],
   "source": [
    "len_before = len(df_trips)\n",
    "\n",
    "# Some trips have stations that are not in the stations data table. Let's drop those that are from 2017 onwards.\n",
    "df_trips = df_trips[((df_trips.departure_h3_res8.notnull())&(df_trips.departure_year >= 2017)) | \n",
    "                    (df_trips.departure_year == 2016)]\n",
    "df_trips = df_trips[((df_trips.return_h3_res8.notnull()) & (df_trips.departure_year >= 2017)) |\n",
    "                    (df_trips.departure_year == 2016)]\n",
    "\n",
    "print(\"Numbers of rows removed: \", len_before - len(df_trips))"
   ]
  },
  {
   "cell_type": "code",
   "execution_count": 30,
   "id": "dd65c1fb",
   "metadata": {},
   "outputs": [
    {
     "name": "stdout",
     "output_type": "stream",
     "text": [
      "We dropped  503377 rows which is  3.350746160860605 % of all the data.\n"
     ]
    }
   ],
   "source": [
    "# Number of rows \n",
    "dropped_rows = trips_number_of_rows - len(df_trips)\n",
    "print(\"We dropped \", dropped_rows, \"rows which is \", 100*dropped_rows/trips_number_of_rows,  \"% of all the data.\")"
   ]
  },
  {
   "cell_type": "markdown",
   "id": "7f351f5b",
   "metadata": {},
   "source": [
    "## Saving the result to csv files"
   ]
  },
  {
   "cell_type": "code",
   "execution_count": 31,
   "id": "e967c7c5",
   "metadata": {},
   "outputs": [],
   "source": [
    "df_trips.to_csv('bike_data/city-bike-trips-cleaned.csv', index=False)\n",
    "df_stations.to_csv('bike_data/city-bike-stations-cleaned.csv', index=False)"
   ]
  },
  {
   "cell_type": "code",
   "execution_count": null,
   "id": "884d16af",
   "metadata": {},
   "outputs": [],
   "source": []
  }
 ],
 "metadata": {
  "kernelspec": {
   "display_name": "Python 3",
   "language": "python",
   "name": "python3"
  },
  "language_info": {
   "codemirror_mode": {
    "name": "ipython",
    "version": 3
   },
   "file_extension": ".py",
   "mimetype": "text/x-python",
   "name": "python",
   "nbconvert_exporter": "python",
   "pygments_lexer": "ipython3",
   "version": "3.8.8"
  }
 },
 "nbformat": 4,
 "nbformat_minor": 5
}
